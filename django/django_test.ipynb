{
 "cells": [
  {
   "cell_type": "code",
   "execution_count": 1,
   "id": "22e99bb2",
   "metadata": {},
   "outputs": [],
   "source": [
    "from django.db.models import *"
   ]
  },
  {
   "cell_type": "code",
   "execution_count": 2,
   "id": "898a1864",
   "metadata": {},
   "outputs": [],
   "source": [
    "from django_pandas.io import read_frame"
   ]
  },
  {
   "cell_type": "code",
   "execution_count": 3,
   "id": "b4feae2e",
   "metadata": {},
   "outputs": [
    {
     "data": {
      "text/html": [
       "<div>\n",
       "<style scoped>\n",
       "    .dataframe tbody tr th:only-of-type {\n",
       "        vertical-align: middle;\n",
       "    }\n",
       "\n",
       "    .dataframe tbody tr th {\n",
       "        vertical-align: top;\n",
       "    }\n",
       "\n",
       "    .dataframe thead th {\n",
       "        text-align: right;\n",
       "    }\n",
       "</style>\n",
       "<table border=\"1\" class=\"dataframe\">\n",
       "  <thead>\n",
       "    <tr style=\"text-align: right;\">\n",
       "      <th></th>\n",
       "      <th>id</th>\n",
       "      <th>unit</th>\n",
       "      <th>spike_times</th>\n",
       "    </tr>\n",
       "  </thead>\n",
       "  <tbody>\n",
       "    <tr>\n",
       "      <th>0</th>\n",
       "      <td>858</td>\n",
       "      <td>Unit object (950910352)</td>\n",
       "      <td>[29.223297243947066, 29.373130823217608, 29.64...</td>\n",
       "    </tr>\n",
       "    <tr>\n",
       "      <th>1</th>\n",
       "      <td>807</td>\n",
       "      <td>Unit object (950910364)</td>\n",
       "      <td>[28.843563287317476, 28.881296682586495, 28.88...</td>\n",
       "    </tr>\n",
       "    <tr>\n",
       "      <th>2</th>\n",
       "      <td>808</td>\n",
       "      <td>Unit object (950910371)</td>\n",
       "      <td>[28.828896596576865, 28.87829667766228, 28.906...</td>\n",
       "    </tr>\n",
       "    <tr>\n",
       "      <th>3</th>\n",
       "      <td>859</td>\n",
       "      <td>Unit object (950910392)</td>\n",
       "      <td>[28.846729959181925, 28.863396653205342, 28.88...</td>\n",
       "    </tr>\n",
       "    <tr>\n",
       "      <th>4</th>\n",
       "      <td>860</td>\n",
       "      <td>Unit object (950910435)</td>\n",
       "      <td>[28.826896593294055, 28.84202995146732, 28.847...</td>\n",
       "    </tr>\n",
       "  </tbody>\n",
       "</table>\n",
       "</div>"
      ],
      "text/plain": [
       "    id                     unit  \\\n",
       "0  858  Unit object (950910352)   \n",
       "1  807  Unit object (950910364)   \n",
       "2  808  Unit object (950910371)   \n",
       "3  859  Unit object (950910392)   \n",
       "4  860  Unit object (950910435)   \n",
       "\n",
       "                                         spike_times  \n",
       "0  [29.223297243947066, 29.373130823217608, 29.64...  \n",
       "1  [28.843563287317476, 28.881296682586495, 28.88...  \n",
       "2  [28.828896596576865, 28.87829667766228, 28.906...  \n",
       "3  [28.846729959181925, 28.863396653205342, 28.88...  \n",
       "4  [28.826896593294055, 28.84202995146732, 28.847...  "
      ]
     },
     "execution_count": 3,
     "metadata": {},
     "output_type": "execute_result"
    }
   ],
   "source": [
    "q = UnitSpikeTimes.objects.filter(unit__channel__session_probe__session_id=715093703)\n",
    "df = read_frame(q)\n",
    "df.head()"
   ]
  }
 ],
 "metadata": {
  "kernelspec": {
   "display_name": "Django Shell-Plus",
   "language": "python",
   "name": "django_extensions"
  },
  "language_info": {
   "codemirror_mode": {
    "name": "ipython",
    "version": 3
   },
   "file_extension": ".py",
   "mimetype": "text/x-python",
   "name": "python",
   "nbconvert_exporter": "python",
   "pygments_lexer": "ipython3",
   "version": "3.9.12"
  }
 },
 "nbformat": 4,
 "nbformat_minor": 5
}
