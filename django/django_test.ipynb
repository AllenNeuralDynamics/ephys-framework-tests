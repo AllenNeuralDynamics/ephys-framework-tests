{
 "cells": [
  {
   "cell_type": "code",
   "execution_count": 1,
   "id": "22e99bb2",
   "metadata": {},
   "outputs": [],
   "source": [
    "from django.db.models import *"
   ]
  },
  {
   "cell_type": "code",
   "execution_count": 2,
   "id": "898a1864",
   "metadata": {},
   "outputs": [],
   "source": [
    "from django_pandas.io import read_frame"
   ]
  },
  {
   "cell_type": "code",
   "execution_count": 5,
   "id": "5516d15d",
   "metadata": {},
   "outputs": [],
   "source": [
    "import os\n",
    "os.environ[\"DJANGO_ALLOW_ASYNC_UNSAFE\"] = \"true\""
   ]
  },
  {
   "cell_type": "code",
   "execution_count": null,
   "id": "b4feae2e",
   "metadata": {},
   "outputs": [],
   "source": [
    "q = UnitSpikeTimes.objects.filter(unit__channel__session_probe__session_id=715093703)\n",
    "df = read_frame(q)\n",
    "df.head()"
   ]
  },
  {
   "cell_type": "code",
   "execution_count": null,
   "id": "28997842",
   "metadata": {},
   "outputs": [],
   "source": []
  }
 ],
 "metadata": {
  "kernelspec": {
   "display_name": "Django Shell-Plus",
   "language": "python",
   "name": "django_extensions"
  },
  "language_info": {
   "codemirror_mode": {
    "name": "ipython",
    "version": 3
   },
   "file_extension": ".py",
   "mimetype": "text/x-python",
   "name": "python",
   "nbconvert_exporter": "python",
   "pygments_lexer": "ipython3",
   "version": "3.9.12"
  }
 },
 "nbformat": 4,
 "nbformat_minor": 5
}
