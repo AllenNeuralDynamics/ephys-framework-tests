{
 "cells": [
  {
   "cell_type": "code",
   "execution_count": 1,
   "id": "5affb4a2",
   "metadata": {},
   "outputs": [],
   "source": [
    "import numpy as np\n",
    "import pandas as pd\n",
    "import json\n",
    "\n",
    "\n",
    "from sqlalchemy import create_engine, select, literal_column, text\n",
    "from sqlalchemy import Column,  String,  ARRAY\n",
    "\n",
    "from sqlalchemy.orm import sessionmaker\n",
    "from sqlalchemy_schemadisplay import create_schema_graph\n",
    "from sqlalchemy.sql import func, distinct\n",
    "from sqlalchemy.dialects.postgresql import array\n",
    "from sqla_schema import *"
   ]
  },
  {
   "cell_type": "code",
   "execution_count": 2,
   "id": "7768fadc",
   "metadata": {},
   "outputs": [],
   "source": [
    "with open('SECRETS','r') as f:\n",
    "    conn_info = json.load(f)\n",
    "\n",
    "conn_string = f\"postgresql://{conn_info['user']}:{conn_info['password']}@{conn_info['host']}:5432/{conn_info['dbname']}\"\n",
    "\n",
    "engine = create_engine(conn_string)\n",
    "session = sessionmaker(engine)()"
   ]
  },
  {
   "cell_type": "code",
   "execution_count": 3,
   "id": "18ca7e57",
   "metadata": {},
   "outputs": [],
   "source": [
    "def query_to_df(Q):\n",
    "    df = pd.read_sql(Q.statement, Q.session.bind)\n",
    "    return df"
   ]
  },
  {
   "cell_type": "code",
   "execution_count": null,
   "id": "b09723ee",
   "metadata": {},
   "outputs": [],
   "source": [
    "query_to_df((session.query(Session,SessionType.name.label('type_name')).join(SessionProbe).join(Channel).join(Unit)).select_from(UnitSpikeTimes))\n"
   ]
  },
  {
   "cell_type": "code",
   "execution_count": null,
   "id": "c844b9b8",
   "metadata": {},
   "outputs": [],
   "source": [
    "query_to_df(session.query(UnitSpikeTimes).join(_any(UnitSpikeTimes.spike_times<10)))"
   ]
  },
  {
   "cell_type": "code",
   "execution_count": null,
   "id": "e10eee14",
   "metadata": {},
   "outputs": [],
   "source": [
    "for r in session.query(UnitSpikeTimes).limit(3):\n",
    "    st = np.array(r.spike_times)\n",
    "    print(r.unit_id, st)"
   ]
  },
  {
   "cell_type": "code",
   "execution_count": null,
   "id": "77c8e2bb",
   "metadata": {},
   "outputs": [],
   "source": [
    "from sqlalchemy.sql import operators\n",
    "query_to_df(session.query(UnitSpikeTimes).filter(UnitSpikeTimes.spike_times.any(30,operator = operators.le))).limit(1)"
   ]
  },
  {
   "cell_type": "code",
   "execution_count": 5,
   "id": "72c0d13d",
   "metadata": {},
   "outputs": [],
   "source": []
  },
  {
   "cell_type": "code",
   "execution_count": null,
   "id": "5dd7158b",
   "metadata": {},
   "outputs": [],
   "source": []
  }
 ],
 "metadata": {
  "kernelspec": {
   "display_name": "Python 3 (ipykernel)",
   "language": "python",
   "name": "python3"
  },
  "language_info": {
   "codemirror_mode": {
    "name": "ipython",
    "version": 3
   },
   "file_extension": ".py",
   "mimetype": "text/x-python",
   "name": "python",
   "nbconvert_exporter": "python",
   "pygments_lexer": "ipython3",
   "version": "3.7.11"
  }
 },
 "nbformat": 4,
 "nbformat_minor": 5
}
