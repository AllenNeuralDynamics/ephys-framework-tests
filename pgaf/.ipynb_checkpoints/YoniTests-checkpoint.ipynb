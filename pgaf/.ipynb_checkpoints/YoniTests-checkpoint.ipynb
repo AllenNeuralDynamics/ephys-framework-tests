{
 "cells": [
  {
   "cell_type": "code",
   "execution_count": 2,
   "id": "42e21ab3",
   "metadata": {},
   "outputs": [],
   "source": [
    "from allensdk.brain_observatory.ecephys.ecephys_project_cache import EcephysProjectCache\n",
    "import os\n",
    "from sqlalchemy import delete,insert\n",
    "from sqlalchemy.orm import sessionmaker\n",
    "\n",
    "import json\n",
    "import numpy as np\n",
    "import pandas as pd\n",
    "from datetime import date,datetime,timedelta\n",
    "\n",
    "from sqla_schema import *\n",
    "\n",
    "import ingest\n",
    "\n",
    "data_directory = 'C:\\\\Users\\\\yoni.browning\\\\Documents\\\\DataJoint\\\\AllenData'\n",
    "manifest_path = os.path.join(data_directory, \"manifest.json\")\n",
    "\n",
    "def query_to_df(Q):\n",
    "    df = pd.read_sql(Q.statement, Q.session.bind)\n",
    "    return df\n",
    "\n",
    "def spike_count(start_trigger,end_trigger,spike_ts):\n",
    "    count = [None]*len(start_trigger)\n",
    "    for ii,trigger in enumerate(start_trigger):\n",
    "        count[ii] = np.sum(np.logical_and(spike_ts>=trigger,spike_ts<end_trigger[ii]))\n",
    "    return count"
   ]
  },
  {
   "cell_type": "code",
   "execution_count": 3,
   "id": "394ff763",
   "metadata": {},
   "outputs": [],
   "source": [
    "engine = ingest.connect_to_db()\n",
    "S = sessionmaker(engine)()\n",
    "#Base.metadata.drop_all(engine, tables=(TrialSpikeCount.__table__,))\n",
    "#Base.metadata.create_all(engine, tables=(TrialSpikeCount.__table__,))\n",
    "\n"
   ]
  },
  {
   "cell_type": "code",
   "execution_count": null,
   "id": "e3edfc30",
   "metadata": {},
   "outputs": [],
   "source": [
    "# Get the unique sessions for which we have spiketimes\n",
    "unique_sessions = query_to_df(S.query(Session.id).\\\n",
    "            join(SessionProbe).\\\n",
    "            join(Channel).\\\n",
    "            join(Unit).\\\n",
    "            join(UnitSpikeTimes,Unit.id==UnitSpikeTimes.unit_id).group_by(Session.id)).values"
   ]
  },
  {
   "cell_type": "code",
   "execution_count": null,
   "id": "c68737b1",
   "metadata": {},
   "outputs": [],
   "source": [
    "def spike_count(start_trigger,end_trigger,spike_ts):\n",
    "    count = [None]*len(start_trigger)\n",
    "    for ii,trigger in enumerate(start_trigger):\n",
    "        count[ii] = np.sum(np.logical_and(spike_ts>=trigger,spike_ts<end_trigger[ii]))\n",
    "    return count\n",
    "\n",
    "for ii,this_session in enumerate(unique_sessions):\n",
    "    print('Session = ' + str(this_session[0]))\n",
    "    stim_table = query_to_df(S.query(Session.id.label('session_id'),\\\n",
    "            StimulusPresentation.id.label(\"stimulus_id\"),\\\n",
    "            StimulusPresentation.stop_time,\\\n",
    "            StimulusPresentation.start_time).\\\n",
    "            join(StimulusPresentation).filter(Session.id==int(this_session[0])))\n",
    "\n",
    "    unit_table =  query_to_df(S.query(Session.id.label('session_id'),\\\n",
    "            Unit.id.label(\"unit_id\"),\\\n",
    "            UnitSpikeTimes.spike_times).join(SessionProbe).\\\n",
    "            join(Channel).join(Unit).\\\n",
    "            join(UnitSpikeTimes,Unit.id==UnitSpikeTimes.unit_id).filter(Session.id==int(this_session[0])))\n",
    "\n",
    "\n",
    "    duration = stim_table.stop_time-stim_table.start_time\n",
    "\n",
    "    for ii,row in unit_table.iterrows():\n",
    "        print('Unit  = ' + str(row.unit_id) + ' is ' +  str(ii) + ' of ' + str(len(unit_table)) ) \n",
    "        count = spike_count(stim_table.start_time,stim_table.stop_time,np.array(row.spike_times))\n",
    "        this_df = pd.DataFrame(data = \\\n",
    "                               {'unit_id':int(row.unit_id),\\\n",
    "                                'stimulus_id':np.array(stim_table.stimulus_id.values).astype(int),\\\n",
    "                                'spike_count':count,\\\n",
    "                                'spike_rate':np.divide(count,duration)})\n",
    "        this_df.to_sql('trial_spike_count', engine,index = False, if_exists='append')\n",
    "    S.commit()"
   ]
  },
  {
   "cell_type": "code",
   "execution_count": 8,
   "id": "5cc91834",
   "metadata": {},
   "outputs": [
    {
     "data": {
      "text/html": [
       "<div>\n",
       "<style scoped>\n",
       "    .dataframe tbody tr th:only-of-type {\n",
       "        vertical-align: middle;\n",
       "    }\n",
       "\n",
       "    .dataframe tbody tr th {\n",
       "        vertical-align: top;\n",
       "    }\n",
       "\n",
       "    .dataframe thead th {\n",
       "        text-align: right;\n",
       "    }\n",
       "</style>\n",
       "<table border=\"1\" class=\"dataframe\">\n",
       "  <thead>\n",
       "    <tr style=\"text-align: right;\">\n",
       "      <th></th>\n",
       "      <th>spike_count</th>\n",
       "      <th>stimulus_type_id</th>\n",
       "    </tr>\n",
       "  </thead>\n",
       "  <tbody>\n",
       "    <tr>\n",
       "      <th>0</th>\n",
       "      <td>2</td>\n",
       "      <td>1</td>\n",
       "    </tr>\n",
       "    <tr>\n",
       "      <th>1</th>\n",
       "      <td>377</td>\n",
       "      <td>0</td>\n",
       "    </tr>\n",
       "    <tr>\n",
       "      <th>2</th>\n",
       "      <td>7</td>\n",
       "      <td>7</td>\n",
       "    </tr>\n",
       "    <tr>\n",
       "      <th>3</th>\n",
       "      <td>8</td>\n",
       "      <td>7</td>\n",
       "    </tr>\n",
       "    <tr>\n",
       "      <th>4</th>\n",
       "      <td>6</td>\n",
       "      <td>7</td>\n",
       "    </tr>\n",
       "    <tr>\n",
       "      <th>...</th>\n",
       "      <td>...</td>\n",
       "      <td>...</td>\n",
       "    </tr>\n",
       "    <tr>\n",
       "      <th>70383</th>\n",
       "      <td>4</td>\n",
       "      <td>6</td>\n",
       "    </tr>\n",
       "    <tr>\n",
       "      <th>70384</th>\n",
       "      <td>4</td>\n",
       "      <td>6</td>\n",
       "    </tr>\n",
       "    <tr>\n",
       "      <th>70385</th>\n",
       "      <td>4</td>\n",
       "      <td>6</td>\n",
       "    </tr>\n",
       "    <tr>\n",
       "      <th>70386</th>\n",
       "      <td>4</td>\n",
       "      <td>6</td>\n",
       "    </tr>\n",
       "    <tr>\n",
       "      <th>70387</th>\n",
       "      <td>3</td>\n",
       "      <td>6</td>\n",
       "    </tr>\n",
       "  </tbody>\n",
       "</table>\n",
       "<p>70388 rows × 2 columns</p>\n",
       "</div>"
      ],
      "text/plain": [
       "       spike_count  stimulus_type_id\n",
       "0                2                 1\n",
       "1              377                 0\n",
       "2                7                 7\n",
       "3                8                 7\n",
       "4                6                 7\n",
       "...            ...               ...\n",
       "70383            4                 6\n",
       "70384            4                 6\n",
       "70385            4                 6\n",
       "70386            4                 6\n",
       "70387            3                 6\n",
       "\n",
       "[70388 rows x 2 columns]"
      ]
     },
     "execution_count": 8,
     "metadata": {},
     "output_type": "execute_result"
    }
   ],
   "source": [
    "query_to_df(S.query(TrialSpikeCount.spike_count,StimulusPresentation.stimulus_type_id).\\\n",
    "            join(StimulusPresentation).\\\n",
    "            filter(TrialSpikeCount.unit_id ==950907205 ))"
   ]
  },
  {
   "cell_type": "code",
   "execution_count": null,
   "id": "d2403741",
   "metadata": {},
   "outputs": [
    {
     "name": "stderr",
     "output_type": "stream",
     "text": [
      "C:\\Users\\yoni.browning\\Anaconda3\\envs\\allensdk\\lib\\site-packages\\pandas\\io\\sql.py:1424: SAWarning: SELECT statement has a cartesian product between FROM element(s) \"session\", \"session_probe\", \"channel\" and FROM element \"structure\".  Apply join condition(s) between each element to resolve.\n",
      "  return self.connectable.execution_options().execute(*args, **kwargs)\n"
     ]
    }
   ],
   "source": [
    "query_to_df(S.query(Session.id,Structure.name).join(SessionProbe).join(Channel).join(Structure))"
   ]
  },
  {
   "cell_type": "code",
   "execution_count": null,
   "id": "6684f2a9",
   "metadata": {},
   "outputs": [],
   "source": []
  }
 ],
 "metadata": {
  "kernelspec": {
   "display_name": "Python 3 (ipykernel)",
   "language": "python",
   "name": "python3"
  },
  "language_info": {
   "codemirror_mode": {
    "name": "ipython",
    "version": 3
   },
   "file_extension": ".py",
   "mimetype": "text/x-python",
   "name": "python",
   "nbconvert_exporter": "python",
   "pygments_lexer": "ipython3",
   "version": "3.7.11"
  }
 },
 "nbformat": 4,
 "nbformat_minor": 5
}
